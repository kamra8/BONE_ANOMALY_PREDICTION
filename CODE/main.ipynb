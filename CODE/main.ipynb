{
 "cells": [
  {
   "cell_type": "code",
   "execution_count": 0,
   "metadata": {
    "colab": {},
    "colab_type": "code",
    "id": "0uLeHkv_uCDe"
   },
   "outputs": [],
   "source": [
    "import os\n",
    "import numpy as np\n",
    "import cv2\n",
    "import keras.backend as K\n",
    "import random\n",
    "import tensorflow as tf\n",
    "def predict_image(userpath=\"/content/MURA-v1.1/valid/XR_SHOULDER/patient11245/study1_positive/image1.png\"):\n",
    "      userimage = cv2.imread(userpath,cv2.IMREAD_GRAYSCALE)\n",
    "      userimage = cv2.resize(userimage,(64,64))\n",
    "      userimage=np.asarray(userimage).astype('float32')\n",
    "      userimage=userimage.reshape(1,64,64,1)\n",
    "      mean = np.mean(userimage)\t\t\t#normalization\n",
    "      std = np.std(userimage)\n",
    "      userimage= (userimage- mean) / std\n",
    "      model=tf.keras.models.load_model(\"mainmodel.h5\")\n",
    "      res=model.predict(userimage)\n",
    "      l=res.tolist()[0]\n",
    "      \n",
    "      labelsDict={0:'ELBOW',1:'FINGER',2:'FOREARM',3:'HAND',4:'HUMERUS',5:'SHOULDER'}\n",
    "      maxvalue=max(l)\n",
    "      maxindex=l.index(maxvalue)\n",
    "      print(\"Given image is predicted as \",labelsDict[maxindex])\n",
    "      return maxindex"
   ]
  },
  {
   "cell_type": "code",
   "execution_count": 0,
   "metadata": {
    "colab": {},
    "colab_type": "code",
    "id": "fYCfjSsFzBNf"
   },
   "outputs": [],
   "source": [
    "def predict_anomaly(maxindex):\n",
    "    models={0:'elbow.h5',1:'finger1.h5',2:'forearm.h5',3:'hand.h5',4:'humerus.h5',5:'shoulder.h5'}\n",
    "    model2= tf.keras.models.load_model(models[maxindex])\n",
    "    y=model2.predict(userimage)\n",
    "    y=y.tolist()[0]\n",
    "    max_y=max(y)\n",
    "    maxindex_y=y.index(max_y)\n",
    "    test={0:'NEGATIVE',1:'POSITIVE'}\n",
    "    print(\"GIVEN X-RAY IMAGE IS:\",test[maxindex_y])"
   ]
  },
  {
   "cell_type": "code",
   "execution_count": 31,
   "metadata": {
    "colab": {
     "base_uri": "https://localhost:8080/",
     "height": 51
    },
    "colab_type": "code",
    "executionInfo": {
     "elapsed": 14827,
     "status": "ok",
     "timestamp": 1564490705499,
     "user": {
      "displayName": "VAMSI SHARABU",
      "photoUrl": "https://lh4.googleusercontent.com/-lGqAlbHtrbQ/AAAAAAAAAAI/AAAAAAAAZIQ/5i4cNO5tyxY/s64/photo.jpg",
      "userId": "11884115725886300560"
     },
     "user_tz": -330
    },
    "id": "LCe3fmRDxC2J",
    "outputId": "6b6f5caf-b5a0-4a65-ad56-e23f017b042d"
   },
   "outputs": [
    {
     "name": "stdout",
     "output_type": "stream",
     "text": [
      "Given image is predicted as  SHOULDER\n",
      "GIVEN X-RAY IMAGE IS: POSITIVE\n"
     ]
    }
   ],
   "source": [
    "#Provide image path\n",
    "#userpath=input(\"Enter image path\")\n",
    "maxindex=predict_image()\n",
    "predict_anomaly(maxindex)"
   ]
  },
  {
   "cell_type": "code",
   "execution_count": 0,
   "metadata": {
    "colab": {},
    "colab_type": "code",
    "id": "SECCMMAO53ti"
   },
   "outputs": [],
   "source": []
  }
 ],
 "metadata": {
  "accelerator": "GPU",
  "colab": {
   "name": "Untitled1.ipynb",
   "provenance": [],
   "version": "0.3.2"
  },
  "kernelspec": {
   "display_name": "Python 3",
   "language": "python",
   "name": "python3"
  },
  "language_info": {
   "codemirror_mode": {
    "name": "ipython",
    "version": 3
   },
   "file_extension": ".py",
   "mimetype": "text/x-python",
   "name": "python",
   "nbconvert_exporter": "python",
   "pygments_lexer": "ipython3",
   "version": "3.7.3"
  }
 },
 "nbformat": 4,
 "nbformat_minor": 1
}
