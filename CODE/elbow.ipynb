{
 "cells": [
  {
   "cell_type": "code",
   "execution_count": 1,
   "metadata": {},
   "outputs": [
    {
     "name": "stdout",
     "output_type": "stream",
     "text": [
      "Requirement already satisfied: tensorflow in c:\\programdata\\anaconda3\\lib\\site-packages (1.13.1)\n",
      "Requirement already satisfied: absl-py>=0.1.6 in c:\\programdata\\anaconda3\\lib\\site-packages (from tensorflow) (0.7.1)\n",
      "Requirement already satisfied: tensorboard<1.14.0,>=1.13.0 in c:\\programdata\\anaconda3\\lib\\site-packages (from tensorflow) (1.13.1)\n",
      "Requirement already satisfied: six>=1.10.0 in c:\\programdata\\anaconda3\\lib\\site-packages (from tensorflow) (1.12.0)\n",
      "Requirement already satisfied: termcolor>=1.1.0 in c:\\programdata\\anaconda3\\lib\\site-packages (from tensorflow) (1.1.0)\n",
      "Requirement already satisfied: gast>=0.2.0 in c:\\programdata\\anaconda3\\lib\\site-packages (from tensorflow) (0.2.2)\n",
      "Requirement already satisfied: keras-preprocessing>=1.0.5 in c:\\programdata\\anaconda3\\lib\\site-packages (from tensorflow) (1.1.0)\n",
      "Requirement already satisfied: grpcio>=1.8.6 in c:\\programdata\\anaconda3\\lib\\site-packages (from tensorflow) (1.21.1)\n",
      "Requirement already satisfied: keras-applications>=1.0.6 in c:\\programdata\\anaconda3\\lib\\site-packages (from tensorflow) (1.0.8)\n",
      "Requirement already satisfied: astor>=0.6.0 in c:\\programdata\\anaconda3\\lib\\site-packages (from tensorflow) (0.8.0)\n",
      "Requirement already satisfied: numpy>=1.13.3 in c:\\programdata\\anaconda3\\lib\\site-packages (from tensorflow) (1.16.0)\n",
      "Requirement already satisfied: tensorflow-estimator<1.14.0rc0,>=1.13.0 in c:\\programdata\\anaconda3\\lib\\site-packages (from tensorflow) (1.13.0)\n",
      "Requirement already satisfied: wheel>=0.26 in c:\\programdata\\anaconda3\\lib\\site-packages (from tensorflow) (0.32.3)\n",
      "Requirement already satisfied: protobuf>=3.6.1 in c:\\programdata\\anaconda3\\lib\\site-packages (from tensorflow) (3.8.0)\n",
      "Requirement already satisfied: markdown>=2.6.8 in c:\\programdata\\anaconda3\\lib\\site-packages (from tensorboard<1.14.0,>=1.13.0->tensorflow) (3.1.1)\n",
      "Requirement already satisfied: werkzeug>=0.11.15 in c:\\programdata\\anaconda3\\lib\\site-packages (from tensorboard<1.14.0,>=1.13.0->tensorflow) (0.14.1)\n",
      "Requirement already satisfied: h5py in c:\\programdata\\anaconda3\\lib\\site-packages (from keras-applications>=1.0.6->tensorflow) (2.8.0)\n",
      "Requirement already satisfied: mock>=2.0.0 in c:\\programdata\\anaconda3\\lib\\site-packages (from tensorflow-estimator<1.14.0rc0,>=1.13.0->tensorflow) (3.0.5)\n",
      "Requirement already satisfied: setuptools in c:\\programdata\\anaconda3\\lib\\site-packages (from protobuf>=3.6.1->tensorflow) (40.6.3)\n"
     ]
    }
   ],
   "source": [
    "import sys \n",
    "!{sys.executable} -m pip install tensorflow"
   ]
  },
  {
   "cell_type": "code",
   "execution_count": 6,
   "metadata": {},
   "outputs": [
    {
     "name": "stdout",
     "output_type": "stream",
     "text": [
      "Requirement already satisfied: opencv-python in c:\\programdata\\anaconda3\\lib\\site-packages (4.1.0.25)\n",
      "Requirement already satisfied: numpy>=1.14.5 in c:\\programdata\\anaconda3\\lib\\site-packages (from opencv-python) (1.16.0)\n"
     ]
    }
   ],
   "source": [
    "import sys \n",
    "!{sys.executable} -m pip install opencv-python\n"
   ]
  },
  {
   "cell_type": "code",
   "execution_count": 18,
   "metadata": {},
   "outputs": [],
   "source": [
    "import os\n",
    "import numpy as np\n",
    "import cv2\n",
    "import keras.backend as K\n",
    "import random\n",
    "import tensorflow as tf\n",
    "\n",
    "\n",
    "def load_image(Path = './valid/XR_ELBOW', size = 512):\n",
    "    Images = []\n",
    "    for path in Path:\n",
    "        try:\n",
    "            image = cv2.imread(path,cv2.IMREAD_GRAYSCALE)\n",
    "            image = cv2.resize(image,(size,size))\n",
    "            Images.append(image)\n",
    "\n",
    "        except Exception as e:\n",
    "            print(str(e))\n",
    "\n",
    "    Images = np.asarray(Images).astype('float32')\n",
    "    Images=Images.reshape((len(Path),28,28,1))\n",
    "\n",
    "    mean = np.mean(Images)\t\t\t#normalization\n",
    "    std = np.std(Images)\n",
    "    Images = (Images - mean) / std\n",
    "    return Images"
   ]
  },
  {
   "cell_type": "code",
   "execution_count": 19,
   "metadata": {},
   "outputs": [
    {
     "name": "stdout",
     "output_type": "stream",
     "text": [
      "4931\n"
     ]
    }
   ],
   "source": [
    "def load_path(root_path = './valid/XR_ELBOW', size = 512):\n",
    "\t'''\n",
    "\tload MURA dataset\n",
    "\t'''\n",
    "\n",
    "\tPath = []\n",
    "\tlabels = []\n",
    "\tfor root,dirs,files in os.walk(root_path): #Read all pictures, os.walk Return to iterator genertor Traverse all files\n",
    "\t\tfor name in files:\n",
    "\t\t\tpath_1 = os.path.join(root,name)\n",
    "\t\t\tPath.append(path_1)\n",
    "\t\t\tif root.split('_')[-1]=='positive':\t #positive Label is 1，otherwise 0；\n",
    "\t\t\t\tlabels+=[1]   \t          \t #Last level directory file patient11880\\\\study1_negative\\\\image3.png\n",
    "\t\t\telse:\n",
    "\t\t\t    labels+=[0]\n",
    "\tprint (len(Path))\n",
    "\tlabels = np.asarray(labels)\n",
    "\treturn Path, labels\n",
    "\n",
    "\n",
    "Path,labels=load_path(r'F:\\Bone Fracture Data\\MURA-v1.1\\train\\XR_ELBOW',64)\n",
    "images=load_image(Path,64)"
   ]
  },
  {
   "cell_type": "code",
   "execution_count": 1,
   "metadata": {},
   "outputs": [],
   "source": [
    "  def train_model():\n",
    "        model=tf.keras.Sequential([\n",
    "        tf.keras.layers.Conv2D(64,(3,3),padding='same',activation=tf.nn.relu,input_shape=(64,64,1)),\n",
    "        tf.keras.layers.MaxPool2D((2,2),strides=1),\n",
    "        tf.keras.layers.Dropout(0.25),\n",
    "        tf.keras.layers.Conv2D(128,(3,3),padding='same',activation=tf.nn.relu),\n",
    "        tf.keras.layers.MaxPool2D((2,2),strides=2,padding='same'),\n",
    "        tf.keras.layers.Dropout(0.25),\n",
    "        tf.keras.layers.Conv2D(64,(3,3),padding='same',activation=tf.nn.relu),\n",
    "        tf.keras.layers.MaxPool2D((2,2),strides=1),#no padding strides is one\n",
    "        tf.keras.layers.Dropout(0.25),       \n",
    "        tf.keras.layers.Conv2D(64,(3,3),padding='same',activation=tf.nn.relu),\n",
    "        tf.keras.layers.MaxPool2D((2,2),strides=2,padding='same'),\n",
    "        tf.keras.layers.Dropout(0.25),\n",
    "        tf.keras.layers.Flatten(),\n",
    "        tf.keras.layers.Dense(128,activation=tf.nn.relu),\n",
    "        tf.keras.layers.Dropout(0.25),\n",
    "        tf.keras.layers.Dense(6,activation=tf.nn.softmax)\n",
    "        ])\n",
    "        model.compile(optimizer='adam',loss='sparse_categorical_crossentropy',metrics=['accuracy'])\n",
    "    \n",
    "        model.fit(Images,labels,epochs=25,verbose=2)\n",
    "     \n",
    "        return model"
   ]
  },
  {
   "cell_type": "code",
   "execution_count": 51,
   "metadata": {},
   "outputs": [
    {
     "name": "stdout",
     "output_type": "stream",
     "text": [
      "Epoch 1/25\n",
      " - 5s - loss: 0.6671 - acc: 0.5916\n",
      "Epoch 2/25\n",
      " - 5s - loss: 0.6480 - acc: 0.6151\n",
      "Epoch 3/25\n",
      " - 5s - loss: 0.6386 - acc: 0.6364\n",
      "Epoch 4/25\n",
      " - 5s - loss: 0.6245 - acc: 0.6567\n",
      "Epoch 5/25\n",
      " - 5s - loss: 0.6096 - acc: 0.6627\n",
      "Epoch 6/25\n",
      " - 5s - loss: 0.5912 - acc: 0.6820\n",
      "Epoch 7/25\n",
      " - 5s - loss: 0.5672 - acc: 0.7076\n",
      "Epoch 8/25\n",
      " - 5s - loss: 0.5401 - acc: 0.7274\n",
      "Epoch 9/25\n",
      " - 5s - loss: 0.5154 - acc: 0.7443\n",
      "Epoch 10/25\n",
      " - 6s - loss: 0.4854 - acc: 0.7587\n",
      "Epoch 11/25\n",
      " - 5s - loss: 0.4565 - acc: 0.7840\n",
      "Epoch 12/25\n",
      " - 5s - loss: 0.4190 - acc: 0.8102\n",
      "Epoch 13/25\n",
      " - 5s - loss: 0.3963 - acc: 0.8197\n",
      "Epoch 14/25\n",
      " - 5s - loss: 0.3555 - acc: 0.8471\n",
      "Epoch 15/25\n",
      " - 5s - loss: 0.3312 - acc: 0.8580\n",
      "Epoch 16/25\n",
      " - 5s - loss: 0.3289 - acc: 0.8578\n",
      "Epoch 17/25\n",
      " - 5s - loss: 0.2829 - acc: 0.8808\n",
      "Epoch 18/25\n",
      " - 5s - loss: 0.2572 - acc: 0.8927\n",
      "Epoch 19/25\n",
      " - 5s - loss: 0.2381 - acc: 0.9012\n",
      "Epoch 20/25\n",
      " - 5s - loss: 0.2216 - acc: 0.9144\n",
      "Epoch 21/25\n",
      " - 5s - loss: 0.1938 - acc: 0.9242\n",
      "Epoch 22/25\n",
      " - 6s - loss: 0.1786 - acc: 0.9331\n",
      "Epoch 23/25\n",
      " - 6s - loss: 0.1737 - acc: 0.9310\n",
      "Epoch 24/25\n",
      " - 5s - loss: 0.1555 - acc: 0.9394\n",
      "Epoch 25/25\n",
      " - 5s - loss: 0.1297 - acc: 0.9515\n"
     ]
    }
   ],
   "source": [
    "model=trainModel()"
   ]
  },
  {
   "cell_type": "code",
   "execution_count": 52,
   "metadata": {},
   "outputs": [
    {
     "name": "stdout",
     "output_type": "stream",
     "text": [
      "_________________________________________________________________\n",
      "Layer (type)                 Output Shape              Param #   \n",
      "=================================================================\n",
      "conv2d_16 (Conv2D)           (None, 28, 28, 32)        320       \n",
      "_________________________________________________________________\n",
      "max_pooling2d_16 (MaxPooling (None, 14, 14, 32)        0         \n",
      "_________________________________________________________________\n",
      "dropout_16 (Dropout)         (None, 14, 14, 32)        0         \n",
      "_________________________________________________________________\n",
      "conv2d_17 (Conv2D)           (None, 14, 14, 64)        18496     \n",
      "_________________________________________________________________\n",
      "max_pooling2d_17 (MaxPooling (None, 7, 7, 64)          0         \n",
      "_________________________________________________________________\n",
      "flatten_8 (Flatten)          (None, 3136)              0         \n",
      "_________________________________________________________________\n",
      "dense_16 (Dense)             (None, 128)               401536    \n",
      "_________________________________________________________________\n",
      "dropout_17 (Dropout)         (None, 128)               0         \n",
      "_________________________________________________________________\n",
      "dense_17 (Dense)             (None, 2)                 258       \n",
      "=================================================================\n",
      "Total params: 420,610\n",
      "Trainable params: 420,610\n",
      "Non-trainable params: 0\n",
      "_________________________________________________________________\n"
     ]
    }
   ],
   "source": [
    "model.summary()"
   ]
  },
  {
   "cell_type": "code",
   "execution_count": 53,
   "metadata": {},
   "outputs": [
    {
     "name": "stdout",
     "output_type": "stream",
     "text": [
      "465\n"
     ]
    }
   ],
   "source": [
    "#Validation of test data\n",
    "ValidPath,Validlabels=load_path(r'F:\\Bone Fracture Data\\MURA-v1.1\\valid\\XR_ELBOW',64)\n",
    "Validimages=load_image(ValidPath,64)"
   ]
  },
  {
   "cell_type": "code",
   "execution_count": 54,
   "metadata": {},
   "outputs": [
    {
     "name": "stdout",
     "output_type": "stream",
     "text": [
      "Test loss: 1.3780374398795507\n",
      "Test accuracy: 0.6408602\n"
     ]
    }
   ],
   "source": [
    "score = model.evaluate(Validimages, Validlabels, verbose=0)\n",
    "print('Test loss:', score[0])\n",
    "print('Test accuracy:', score[1])"
   ]
  },
  {
   "cell_type": "code",
   "execution_count": null,
   "metadata": {},
   "outputs": [],
   "source": [
    "model.save('elbow.h5')"
   ]
  }
 ],
 "metadata": {
  "kernelspec": {
   "display_name": "Python 3",
   "language": "python",
   "name": "python3"
  },
  "language_info": {
   "codemirror_mode": {
    "name": "ipython",
    "version": 3
   },
   "file_extension": ".py",
   "mimetype": "text/x-python",
   "name": "python",
   "nbconvert_exporter": "python",
   "pygments_lexer": "ipython3",
   "version": "3.7.1"
  }
 },
 "nbformat": 4,
 "nbformat_minor": 2
}
