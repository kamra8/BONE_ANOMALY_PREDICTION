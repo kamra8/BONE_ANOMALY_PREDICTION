{
 "cells": [
  {
   "cell_type": "code",
   "execution_count": 1,
   "metadata": {},
   "outputs": [
    {
     "name": "stdout",
     "output_type": "stream",
     "text": [
      "Requirement already satisfied: tensorflow in c:\\programdata\\anaconda3\\lib\\site-packages (1.13.1)\n",
      "Requirement already satisfied: tensorflow-estimator<1.14.0rc0,>=1.13.0 in c:\\programdata\\anaconda3\\lib\\site-packages (from tensorflow) (1.13.0)\n",
      "Requirement already satisfied: gast>=0.2.0 in c:\\programdata\\anaconda3\\lib\\site-packages (from tensorflow) (0.2.2)\n",
      "Requirement already satisfied: keras-preprocessing>=1.0.5 in c:\\programdata\\anaconda3\\lib\\site-packages (from tensorflow) (1.1.0)\n",
      "Requirement already satisfied: absl-py>=0.1.6 in c:\\programdata\\anaconda3\\lib\\site-packages (from tensorflow) (0.7.1)\n",
      "Requirement already satisfied: astor>=0.6.0 in c:\\programdata\\anaconda3\\lib\\site-packages (from tensorflow) (0.8.0)\n",
      "Requirement already satisfied: six>=1.10.0 in c:\\programdata\\anaconda3\\lib\\site-packages (from tensorflow) (1.12.0)\n",
      "Requirement already satisfied: wheel>=0.26 in c:\\programdata\\anaconda3\\lib\\site-packages (from tensorflow) (0.32.3)\n",
      "Requirement already satisfied: tensorboard<1.14.0,>=1.13.0 in c:\\programdata\\anaconda3\\lib\\site-packages (from tensorflow) (1.13.1)\n",
      "Requirement already satisfied: grpcio>=1.8.6 in c:\\programdata\\anaconda3\\lib\\site-packages (from tensorflow) (1.21.1)\n",
      "Requirement already satisfied: numpy>=1.13.3 in c:\\programdata\\anaconda3\\lib\\site-packages (from tensorflow) (1.16.0)\n",
      "Requirement already satisfied: keras-applications>=1.0.6 in c:\\programdata\\anaconda3\\lib\\site-packages (from tensorflow) (1.0.8)\n",
      "Requirement already satisfied: termcolor>=1.1.0 in c:\\programdata\\anaconda3\\lib\\site-packages (from tensorflow) (1.1.0)\n",
      "Requirement already satisfied: protobuf>=3.6.1 in c:\\programdata\\anaconda3\\lib\\site-packages (from tensorflow) (3.8.0)\n",
      "Requirement already satisfied: mock>=2.0.0 in c:\\programdata\\anaconda3\\lib\\site-packages (from tensorflow-estimator<1.14.0rc0,>=1.13.0->tensorflow) (3.0.5)\n",
      "Requirement already satisfied: markdown>=2.6.8 in c:\\programdata\\anaconda3\\lib\\site-packages (from tensorboard<1.14.0,>=1.13.0->tensorflow) (3.1.1)\n",
      "Requirement already satisfied: werkzeug>=0.11.15 in c:\\programdata\\anaconda3\\lib\\site-packages (from tensorboard<1.14.0,>=1.13.0->tensorflow) (0.14.1)\n",
      "Requirement already satisfied: h5py in c:\\programdata\\anaconda3\\lib\\site-packages (from keras-applications>=1.0.6->tensorflow) (2.8.0)\n",
      "Requirement already satisfied: setuptools in c:\\programdata\\anaconda3\\lib\\site-packages (from protobuf>=3.6.1->tensorflow) (40.6.3)\n"
     ]
    }
   ],
   "source": [
    "import sys \n",
    "!{sys.executable} -m pip install tensorflow"
   ]
  },
  {
   "cell_type": "code",
   "execution_count": 2,
   "metadata": {},
   "outputs": [
    {
     "name": "stdout",
     "output_type": "stream",
     "text": [
      "Requirement already satisfied: opencv-python in c:\\programdata\\anaconda3\\lib\\site-packages (4.1.0.25)\n",
      "Requirement already satisfied: numpy>=1.14.5 in c:\\programdata\\anaconda3\\lib\\site-packages (from opencv-python) (1.16.0)\n"
     ]
    }
   ],
   "source": [
    "import sys \n",
    "!{sys.executable} -m pip install opencv-python\n"
   ]
  },
  {
   "cell_type": "code",
   "execution_count": 3,
   "metadata": {},
   "outputs": [
    {
     "name": "stderr",
     "output_type": "stream",
     "text": [
      "Using TensorFlow backend.\n"
     ]
    }
   ],
   "source": [
    "import os\n",
    "import numpy as np\n",
    "import cv2\n",
    "import keras.backend as K\n",
    "import random\n",
    "import tensorflow as tf\n",
    "\n",
    "\n",
    "def load_image(Path = './valid/XR_FINGER', size = 512):\n",
    "    Images = []\n",
    "    for path in Path:\n",
    "        try:\n",
    "            image = cv2.imread(path,cv2.IMREAD_GRAYSCALE)\n",
    "            image = cv2.resize(image,(size,size))\n",
    "            Images.append(image)\n",
    "\n",
    "        except Exception as e:\n",
    "            print(str(e))\n",
    "\n",
    "    Images = np.asarray(Images).astype('float32')\n",
    "    Images=Images.reshape((len(Path),28,28,1))\n",
    "\n",
    "    mean = np.mean(Images)\t\t\t#normalization\n",
    "    std = np.std(Images)\n",
    "    Images = (Images - mean) / std\n",
    "    return Images"
   ]
  },
  {
   "cell_type": "code",
   "execution_count": 4,
   "metadata": {},
   "outputs": [
    {
     "name": "stdout",
     "output_type": "stream",
     "text": [
      "5106\n"
     ]
    }
   ],
   "source": [
    "def load_path(root_path = './valid/XR_FINGER', size = 512):\n",
    "\t'''\n",
    "\tload MURA dataset\n",
    "\t'''\n",
    "\n",
    "\tPath = []\n",
    "\tlabels = []\n",
    "\tfor root,dirs,files in os.walk(root_path): #Read all pictures, os.walk Return to iterator genertor Traverse all files\n",
    "\t\tfor name in files:\n",
    "\t\t\tpath_1 = os.path.join(root,name)\n",
    "\t\t\tPath.append(path_1)\n",
    "\t\t\tif root.split('_')[-1]=='positive':\t #positive Label is 1，otherwise 0；\n",
    "\t\t\t\tlabels+=[1]   \t          \t #Last level directory file patient11880\\\\study1_negative\\\\image3.png\n",
    "\t\t\telse:\n",
    "\t\t\t    labels+=[0]\n",
    "\tprint (len(Path))\n",
    "\tlabels = np.asarray(labels)\n",
    "\treturn Path, labels\n",
    "\n",
    "\n",
    "Path,labels=load_path(r'F:\\Bone Fracture Data\\MURA-v1.1\\train\\XR_FINGER',64)\n",
    "images=load_image(Path,64)"
   ]
  },
  {
   "cell_type": "code",
   "execution_count": 5,
   "metadata": {},
   "outputs": [],
   "source": [
    " def train_model():\n",
    "        model=tf.keras.Sequential([\n",
    "        tf.keras.layers.Conv2D(64,(3,3),padding='same',activation=tf.nn.relu,input_shape=(64,64,1)),\n",
    "        tf.keras.layers.MaxPool2D((2,2),strides=1),\n",
    "        tf.keras.layers.Dropout(0.25),\n",
    "        tf.keras.layers.Conv2D(128,(3,3),padding='same',activation=tf.nn.relu),\n",
    "        tf.keras.layers.MaxPool2D((2,2),strides=2,padding='same'),\n",
    "        tf.keras.layers.Dropout(0.25),\n",
    "        tf.keras.layers.Conv2D(64,(3,3),padding='same',activation=tf.nn.relu),\n",
    "        tf.keras.layers.MaxPool2D((2,2),strides=1),#no padding strides is one\n",
    "        tf.keras.layers.Dropout(0.25),       \n",
    "        tf.keras.layers.Conv2D(64,(3,3),padding='same',activation=tf.nn.relu),\n",
    "        tf.keras.layers.MaxPool2D((2,2),strides=2,padding='same'),\n",
    "        tf.keras.layers.Dropout(0.25),\n",
    "        tf.keras.layers.Flatten(),\n",
    "        tf.keras.layers.Dense(128,activation=tf.nn.relu),\n",
    "        tf.keras.layers.Dropout(0.25),\n",
    "        tf.keras.layers.Dense(6,activation=tf.nn.softmax)\n",
    "        ])\n",
    "        model.compile(optimizer='adam',loss='sparse_categorical_crossentropy',metrics=['accuracy'])\n",
    "    \n",
    "        model.fit(Images,labels,epochs=30,verbose=2)\n",
    "     \n",
    "        return model"
   ]
  },
  {
   "cell_type": "code",
   "execution_count": 6,
   "metadata": {},
   "outputs": [
    {
     "name": "stdout",
     "output_type": "stream",
     "text": [
      "WARNING:tensorflow:From C:\\ProgramData\\Anaconda3\\lib\\site-packages\\tensorflow\\python\\ops\\resource_variable_ops.py:435: colocate_with (from tensorflow.python.framework.ops) is deprecated and will be removed in a future version.\n",
      "Instructions for updating:\n",
      "Colocations handled automatically by placer.\n",
      "WARNING:tensorflow:From C:\\ProgramData\\Anaconda3\\lib\\site-packages\\tensorflow\\python\\keras\\layers\\core.py:143: calling dropout (from tensorflow.python.ops.nn_ops) with keep_prob is deprecated and will be removed in a future version.\n",
      "Instructions for updating:\n",
      "Please use `rate` instead of `keep_prob`. Rate should be set to `rate = 1 - keep_prob`.\n",
      "Epoch 1/30\n",
      " - 5s - loss: 0.6148 - acc: 0.6584\n",
      "Epoch 2/30\n",
      " - 5s - loss: 0.5847 - acc: 0.6759\n",
      "Epoch 3/30\n",
      " - 5s - loss: 0.5639 - acc: 0.6962\n",
      "Epoch 4/30\n",
      " - 5s - loss: 0.5490 - acc: 0.7045\n",
      "Epoch 5/30\n",
      " - 5s - loss: 0.5261 - acc: 0.7274\n",
      "Epoch 6/30\n",
      " - 5s - loss: 0.4983 - acc: 0.7436\n",
      "Epoch 7/30\n",
      " - 7s - loss: 0.4696 - acc: 0.7648\n",
      "Epoch 8/30\n",
      " - 9s - loss: 0.4496 - acc: 0.7822\n",
      "Epoch 9/30\n",
      " - 9s - loss: 0.4103 - acc: 0.8081\n",
      "Epoch 10/30\n",
      " - 9s - loss: 0.3762 - acc: 0.8216\n",
      "Epoch 11/30\n",
      " - 9s - loss: 0.3383 - acc: 0.8521\n",
      "Epoch 12/30\n",
      " - 9s - loss: 0.3105 - acc: 0.8643\n",
      "Epoch 13/30\n",
      " - 9s - loss: 0.2827 - acc: 0.8760\n",
      "Epoch 14/30\n",
      " - 9s - loss: 0.2519 - acc: 0.8935\n",
      "Epoch 15/30\n",
      " - 9s - loss: 0.2384 - acc: 0.9023\n",
      "Epoch 16/30\n",
      " - 9s - loss: 0.2052 - acc: 0.9179\n",
      "Epoch 17/30\n",
      " - 9s - loss: 0.1852 - acc: 0.9254\n",
      "Epoch 18/30\n",
      " - 9s - loss: 0.1750 - acc: 0.9266\n",
      "Epoch 19/30\n",
      " - 10s - loss: 0.1532 - acc: 0.9412\n",
      "Epoch 20/30\n",
      " - 10s - loss: 0.1401 - acc: 0.9471\n",
      "Epoch 21/30\n",
      " - 10s - loss: 0.1170 - acc: 0.9577\n",
      "Epoch 22/30\n",
      " - 11s - loss: 0.1254 - acc: 0.9538\n",
      "Epoch 23/30\n",
      " - 10s - loss: 0.1049 - acc: 0.9646\n",
      "Epoch 24/30\n",
      " - 9s - loss: 0.1046 - acc: 0.9649\n",
      "Epoch 25/30\n",
      " - 9s - loss: 0.1076 - acc: 0.9608\n",
      "Epoch 26/30\n",
      " - 9s - loss: 0.0831 - acc: 0.9669\n",
      "Epoch 27/30\n",
      " - 9s - loss: 0.0835 - acc: 0.9702\n",
      "Epoch 28/30\n",
      " - 9s - loss: 0.0793 - acc: 0.9720\n",
      "Epoch 29/30\n",
      " - 9s - loss: 0.0700 - acc: 0.9759\n",
      "Epoch 30/30\n",
      " - 10s - loss: 0.0766 - acc: 0.9749\n"
     ]
    }
   ],
   "source": [
    "model=trainModel()"
   ]
  },
  {
   "cell_type": "code",
   "execution_count": 7,
   "metadata": {},
   "outputs": [
    {
     "name": "stdout",
     "output_type": "stream",
     "text": [
      "_________________________________________________________________\n",
      "Layer (type)                 Output Shape              Param #   \n",
      "=================================================================\n",
      "conv2d (Conv2D)              (None, 28, 28, 32)        320       \n",
      "_________________________________________________________________\n",
      "max_pooling2d (MaxPooling2D) (None, 14, 14, 32)        0         \n",
      "_________________________________________________________________\n",
      "dropout (Dropout)            (None, 14, 14, 32)        0         \n",
      "_________________________________________________________________\n",
      "conv2d_1 (Conv2D)            (None, 14, 14, 64)        18496     \n",
      "_________________________________________________________________\n",
      "max_pooling2d_1 (MaxPooling2 (None, 7, 7, 64)          0         \n",
      "_________________________________________________________________\n",
      "flatten (Flatten)            (None, 3136)              0         \n",
      "_________________________________________________________________\n",
      "dense (Dense)                (None, 128)               401536    \n",
      "_________________________________________________________________\n",
      "dropout_1 (Dropout)          (None, 128)               0         \n",
      "_________________________________________________________________\n",
      "dense_1 (Dense)              (None, 2)                 258       \n",
      "=================================================================\n",
      "Total params: 420,610\n",
      "Trainable params: 420,610\n",
      "Non-trainable params: 0\n",
      "_________________________________________________________________\n"
     ]
    }
   ],
   "source": [
    "model.summary()"
   ]
  },
  {
   "cell_type": "code",
   "execution_count": 8,
   "metadata": {},
   "outputs": [
    {
     "name": "stdout",
     "output_type": "stream",
     "text": [
      "461\n"
     ]
    }
   ],
   "source": [
    "#Validation of test data\n",
    "ValidPath,Validlabels=load_path(r'F:\\Bone Fracture Data\\MURA-v1.1\\valid\\XR_FINGER',64)\n",
    "Validimages=load_image(ValidPath,64)"
   ]
  },
  {
   "cell_type": "code",
   "execution_count": 9,
   "metadata": {},
   "outputs": [
    {
     "name": "stdout",
     "output_type": "stream",
     "text": [
      "Test loss: 1.6255707013826826\n",
      "Test accuracy: 0.6724512\n"
     ]
    }
   ],
   "source": [
    "score = model.evaluate(Validimages, Validlabels, verbose=0)\n",
    "print('Test loss:', score[0])\n",
    "print('Test accuracy:', score[1])"
   ]
  },
  {
   "cell_type": "code",
   "execution_count": null,
   "metadata": {},
   "outputs": [],
   "source": [
    "model.save('finger.h5')"
   ]
  }
 ],
 "metadata": {
  "kernelspec": {
   "display_name": "Python 3",
   "language": "python",
   "name": "python3"
  },
  "language_info": {
   "codemirror_mode": {
    "name": "ipython",
    "version": 3
   },
   "file_extension": ".py",
   "mimetype": "text/x-python",
   "name": "python",
   "nbconvert_exporter": "python",
   "pygments_lexer": "ipython3",
   "version": "3.7.1"
  }
 },
 "nbformat": 4,
 "nbformat_minor": 2
}
